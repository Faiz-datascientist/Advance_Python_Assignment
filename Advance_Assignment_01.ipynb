{
 "cells": [
  {
   "cell_type": "markdown",
   "id": "33a843be",
   "metadata": {},
   "source": [
    "# Q1. What is the purpose of Python's OOP?"
   ]
  },
  {
   "cell_type": "markdown",
   "id": "f2ee8e88",
   "metadata": {},
   "source": [
    "************** PYTHON's OOPS *********************\n",
    "\n",
    "OOPS stands for object oreinted programming language it provide structuring programs \n",
    "it uses objects and classes \n",
    "it has many properties like inheritence, encapsulation ,polymorphishm etc\n",
    "oops language is a bindation of the function that work on that together as a single unit so that no other part of the code can access this data"
   ]
  },
  {
   "cell_type": "markdown",
   "id": "5ad142ea",
   "metadata": {},
   "source": [
    "# Q2. Where does an inheritance search look for an attribute?"
   ]
  },
  {
   "cell_type": "markdown",
   "id": "39089ca6",
   "metadata": {},
   "source": [
    "The term inheritance is applied because objects lower in a tree inherit attributes attached to objects higher in that tree. As the search proceeds from the bottom up, in a sense, the objects linked into a tree are the union of all the attributes defined in all their tree parents, all the way up the tree."
   ]
  },
  {
   "cell_type": "markdown",
   "id": "472e7429",
   "metadata": {},
   "source": [
    "# Q3. How do you distinguish between a class object and an instance object?"
   ]
  },
  {
   "cell_type": "markdown",
   "id": "c924f4c0",
   "metadata": {},
   "source": [
    "The difference between class and instance are :\n",
    "\n",
    "A class field is what you think a local variable is but it is generally a static field and so is the same across all instances.\n",
    "\n",
    "An instance field is the same as a class field, but is non static and can be different for each instance of the object"
   ]
  },
  {
   "cell_type": "markdown",
   "id": "b91bb62f",
   "metadata": {},
   "source": [
    "# Q4. What makes the first argument in a class’s method function special?"
   ]
  },
  {
   "cell_type": "markdown",
   "id": "58245991",
   "metadata": {},
   "source": [
    "class level methods\n",
    "\n",
    "Static Methods (general utility methods)\n",
    "\n",
    "\"self\" argument for instance methods. which refers to the object itself\n",
    "\n",
    "\"cls\" argument for class methods which refers to the class itself"
   ]
  },
  {
   "cell_type": "markdown",
   "id": "f25e7a7a",
   "metadata": {},
   "source": [
    "# Q5. What is the purpose of the init method?"
   ]
  },
  {
   "cell_type": "markdown",
   "id": "32e16da9",
   "metadata": {},
   "source": [
    "init method is worked as a constructor which is used for initialize newly created object  "
   ]
  },
  {
   "cell_type": "markdown",
   "id": "e4070e36",
   "metadata": {},
   "source": [
    "# Q6. What is the process for creating a class instance?"
   ]
  },
  {
   "cell_type": "markdown",
   "id": "ee52b705",
   "metadata": {},
   "source": [
    "The purpose of creating a class instance is, we can call the class by its name and we can set the argument through __init__ method"
   ]
  },
  {
   "cell_type": "markdown",
   "id": "0d4292fc",
   "metadata": {},
   "source": [
    "# Q7. What is the process for creating a class?"
   ]
  },
  {
   "cell_type": "markdown",
   "id": "51e8c1aa",
   "metadata": {},
   "source": [
    "class keyword is used to created a class in python. The syntax to create a class in python is class <classname>:"
   ]
  },
  {
   "cell_type": "markdown",
   "id": "82606c07",
   "metadata": {},
   "source": [
    "# Q8. How would you define the superclasses of a class?"
   ]
  },
  {
   "cell_type": "markdown",
   "id": "0b7418e9",
   "metadata": {},
   "source": [
    "Superclass as known as Parent class is given as a arugment to the child class\n",
    "\n",
    "class automobile(car):  Here we are using child automobile to inheret the parent or sibling class \"car\" "
   ]
  },
  {
   "cell_type": "code",
   "execution_count": null,
   "id": "6262c939",
   "metadata": {},
   "outputs": [],
   "source": []
  }
 ],
 "metadata": {
  "kernelspec": {
   "display_name": "Python 3 (ipykernel)",
   "language": "python",
   "name": "python3"
  },
  "language_info": {
   "codemirror_mode": {
    "name": "ipython",
    "version": 3
   },
   "file_extension": ".py",
   "mimetype": "text/x-python",
   "name": "python",
   "nbconvert_exporter": "python",
   "pygments_lexer": "ipython3",
   "version": "3.9.7"
  }
 },
 "nbformat": 4,
 "nbformat_minor": 5
}
